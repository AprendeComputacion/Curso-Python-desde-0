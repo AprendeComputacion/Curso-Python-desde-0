{
  "nbformat": 4,
  "nbformat_minor": 0,
  "metadata": {
    "colab": {
      "name": "Calculo DNI Peru.ipynb",
      "provenance": []
    },
    "kernelspec": {
      "name": "python3",
      "display_name": "Python 3"
    },
    "language_info": {
      "name": "python"
    }
  },
  "cells": [
    {
      "cell_type": "markdown",
      "source": [
        "# Referencias\n",
        "* https://www.reniec.gob.pe/portal/acercaDni.htm#\n",
        "* https://mag.elcomercio.pe/respuestas/cual-es-el-digito-verificador-de-mi-dni-documento-nacional-de-identidad-reniec-peru-nnda-nnlt-noticia/\n",
        "* https://groups.google.com/g/wordpress-peru/c/Z7uaula3rvM?pli=1\n",
        "* https://thefrontend.wordpress.com/2012/11/21/como-validar-el-dni-de-peru/\n",
        "* https://gist.github.com/lgaticaq/2e5de70146e34afe0968eed49bc533ad\n",
        "\n",
        "# Instrucciones\n",
        "\n",
        "*  Tomaremos como ejemplo el DNI 17801146.\n",
        "* Separamos cada uno de los dígitos 1, 7, 8, 0, 1, 1, 4, 6.\n",
        "* Multiplicamos cada dígito por esta serie en el mismo orden 3, 2, 7, 6, 5, 4, 3, 2 de esta forma: 1 x 3, 7 x 2, 8 x 7, 0 x 6, 1 x 5, 1 x 4, 4 x 3, 6 x 2\n",
        "* Sumamos todos los productos dándonos el resultado de 106\n",
        "* Dividimos el resultado anterior entre 11 y tomamos el residuo: 106/11 = 9 sobrándonos 7 (9 x 11 = 99 para 106 nos faltaría 7)\n",
        "* Al valor 11 (por defecto) le restamos el resultado anterior 7 , lo que nos daría 4. *Excepción, si el resultado del punto 6 sería 11, es decir 11 – 0 = 11 (0 es el resultado del punto 5, es decir se trata de una división exacta que no tiene residuo) entonces el resultado sería 0 y no 11.\n",
        "* Al resultado anterior le sumamos 1, es decir 4 + 1 = 5 lo que significa que vamos a buscar la 5ta posición en la serie NUMERICA (por defecto) 6, 7, 8, 9, 0, 1, 1, 2, 3, 4, 5 ó la 5ta posición en la serie ALFABÉTICA (por defecto) K, A, B, C, D, E, F, G, H, I, J.\n",
        "* El dígito verificador o dígito de validación son los pintados en color azul."
      ],
      "metadata": {
        "id": "qxLf2GeQ4XOD"
      }
    },
    {
      "cell_type": "code",
      "source": [
        "from operator import mul"
      ],
      "metadata": {
        "id": "1XiKwoE57duG"
      },
      "execution_count": null,
      "outputs": []
    },
    {
      "cell_type": "code",
      "source": [
        "MULTIPLICADORES = [3, 2, 7, 6, 5, 4, 3, 2]\n",
        "BASE = 11\n",
        "SERIE_NUMERICA = ['6', '7', '8', '9', '0', '1', '1', '2', '3', '4', '5']\n",
        "SERIE_ALFABETICA = ['K', 'A', 'B', 'C', 'D', 'E', 'F', 'G', 'H', 'I', 'J']"
      ],
      "metadata": {
        "id": "2EiQlgvT4UFz"
      },
      "execution_count": null,
      "outputs": []
    },
    {
      "cell_type": "code",
      "source": [
        "dni = input('Inserte su DNI: ')"
      ],
      "metadata": {
        "colab": {
          "base_uri": "https://localhost:8080/"
        },
        "id": "zIAXEXk-6F1-",
        "outputId": "b1fc4c62-7576-4987-f403-4245ce6758aa"
      },
      "execution_count": null,
      "outputs": [
        {
          "name": "stdout",
          "output_type": "stream",
          "text": [
            "Inserte su DNI: 17801146-1\n"
          ]
        }
      ]
    },
    {
      "cell_type": "code",
      "source": [
        "dni, codigo_verificacion = dni.upper().split('-')"
      ],
      "metadata": {
        "id": "_thgHYI46Prn"
      },
      "execution_count": null,
      "outputs": []
    },
    {
      "cell_type": "code",
      "source": [
        "digitos = map(int, list(dni))\n",
        "multiplicados = map(mul, digitos, MULTIPLICADORES)"
      ],
      "metadata": {
        "id": "ZH2le46o6iNf"
      },
      "execution_count": null,
      "outputs": []
    },
    {
      "cell_type": "code",
      "source": [
        "total = sum(multiplicados)\n",
        "resto = total % BASE"
      ],
      "metadata": {
        "id": "U7vLp7Tm7ruu"
      },
      "execution_count": null,
      "outputs": []
    },
    {
      "cell_type": "code",
      "source": [
        "validador = BASE - resto\n",
        "if validador == 11:\n",
        "    validador = 0"
      ],
      "metadata": {
        "id": "ug-1jhJY8Z9m"
      },
      "execution_count": null,
      "outputs": []
    },
    {
      "cell_type": "code",
      "source": [
        "codigo_verificacion in [SERIE_NUMERICA[validador], SERIE_ALFABETICA[validador]]"
      ],
      "metadata": {
        "colab": {
          "base_uri": "https://localhost:8080/"
        },
        "id": "Zr1AD8wx8tV8",
        "outputId": "1d8a26cd-dc5d-44ee-c2ee-81e45704e9b5"
      },
      "execution_count": null,
      "outputs": [
        {
          "output_type": "execute_result",
          "data": {
            "text/plain": [
              "False"
            ]
          },
          "metadata": {},
          "execution_count": 49
        }
      ]
    }
  ]
}